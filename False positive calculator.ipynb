{
  "cells": [
    {
      "metadata": {
        "trusted": true
      },
      "cell_type": "code",
      "source": "def br_calc():\n    print(\"Input sample size: \")\n    sample_size = float(input())\n    print(\"Input base rate: \")\n    base_rate = float(input())\n    print(\"Input false positive rate: \")\n    false_pos_rate = float(input())\n    print(\"Input false negative rate: \")\n    false_neg_rate = float(input())\n    \n    true_test_positive = sample_size * base_rate * (1-false_neg_rate)    \n    true_test_negative = sample_size * base_rate * false_neg_rate\n    false_test_positive = sample_size * (1-base_rate) * false_pos_rate\n    false_test_negative = sample_size * (1-base_rate) * (1-false_pos_rate)\n   \n    tot_test_pos = true_test_positive + false_test_positive\n    tot_test_neg = true_test_negative + false_test_negative\n    percent = false_test_positive/tot_test_pos\n    \n    print(\"Total testing positive: \" + str(tot_test_pos))\n    print(\"Total testing negative: \" + str(tot_test_neg))\n    print(\"Number of false positive results: \" + str(false_test_positive))\n    print(\"False positives as a percentage of total positive results: \" + str(percent))\n    \nbr_calc()",
      "execution_count": 56,
      "outputs": [
        {
          "output_type": "stream",
          "text": "Input sample size: \n1000\nInput base rate: \n.1\nInput false positive rate: \n.05\nInput false negative rate: \n.05\nTotal testing positive: 140.0\nTotal testing negative: 860.0\nNumber of false positive results: 45.0\nFalse positives as a percentage of total positive results: 0.32142857142857145\n",
          "name": "stdout"
        }
      ]
    },
    {
      "metadata": {
        "trusted": true
      },
      "cell_type": "code",
      "source": "",
      "execution_count": null,
      "outputs": []
    }
  ],
  "metadata": {
    "kernelspec": {
      "name": "python36",
      "display_name": "Python 3.6",
      "language": "python"
    },
    "language_info": {
      "mimetype": "text/x-python",
      "nbconvert_exporter": "python",
      "name": "python",
      "pygments_lexer": "ipython3",
      "version": "3.6.6",
      "file_extension": ".py",
      "codemirror_mode": {
        "version": 3,
        "name": "ipython"
      }
    }
  },
  "nbformat": 4,
  "nbformat_minor": 2
}